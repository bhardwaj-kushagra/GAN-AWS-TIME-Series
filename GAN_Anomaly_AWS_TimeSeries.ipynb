{
  "nbformat": 4,
  "nbformat_minor": 0,
  "metadata": {
    "colab": {
      "provenance": []
    },
    "kernelspec": {
      "display_name": "Python 3",
      "name": "python3"
    },
    "accelerator": "GPU"
  },
  "cells": [
    {
      "cell_type": "markdown",
      "metadata": {
        "id": "nCCLPT5MP5rj"
      },
      "source": [
        "# Import Required Libraries\n"
      ]
    },
    {
      "cell_type": "code",
      "metadata": {
        "id": "ztXH30jncPFS"
      },
      "source": [
        "import os\n",
        "import random\n",
        "import torch\n",
        "import torch.nn as nn\n",
        "import torch.backends.cudnn as cudnn\n",
        "import torch.optim as optim\n",
        "import torch.utils.data\n",
        "import torchvision\n",
        "import torch.nn.init as init\n",
        "from torch.autograd import Variable\n",
        "import datetime\n",
        "from torch.utils.data import Dataset\n",
        "import pandas as pd\n",
        "import numpy as np\n",
        "import json\n",
        "from sklearn import preprocessing\n",
        "import seaborn as sns\n",
        "from sklearn.metrics import cohen_kappa_score\n",
        "from sklearn.metrics import roc_curve, auc, roc_auc_score\n",
        "import matplotlib.pyplot as plt"
      ],
      "execution_count": null,
      "outputs": []
    },
    {
      "cell_type": "markdown",
      "metadata": {
        "id": "ZrZepz4mQF42"
      },
      "source": [
        "# Helper Functions"
      ]
    },
    {
      "cell_type": "code",
      "metadata": {
        "id": "sYbOkd_BcPIM"
      },
      "source": [
        "# Read the csv data and annotation file\n",
        "\n",
        "def read_data(data_file=None, label_file=None, key=None):\n",
        "    with open(label_file) as FI:\n",
        "        j_label = json.load(FI)\n",
        "    ano_spans = j_label[key]\n",
        "    ano_span_count = len(ano_spans)\n",
        "    df_x = pd.read_csv(data_file)\n",
        "    df_x, df_y = assign_ano(ano_spans, df_x)\n",
        "\n",
        "    return df_x, df_y\n",
        "\n",
        "def assign_ano(ano_spans=None, df_x=None):\n",
        "    df_x['timestamp'] = pd.to_datetime(df_x['timestamp'])\n",
        "    y = np.zeros(len(df_x))\n",
        "    for ano_span in ano_spans:\n",
        "        ano_start = pd.to_datetime(ano_span[0])\n",
        "        ano_end = pd.to_datetime(ano_span[1])\n",
        "        for idx in df_x.index:\n",
        "            if df_x.loc[idx, 'timestamp'] >= ano_start and df_x.loc[idx, 'timestamp'] <= ano_end:\n",
        "                y[idx] = 1.0\n",
        "    return df_x, pd.DataFrame(y)\n",
        "\n",
        "# create sequences\n",
        "def unroll(data, labels):\n",
        "    un_data = []\n",
        "    un_labels = []\n",
        "    seq_len = int(window_length)\n",
        "\n",
        "\n",
        "    idx = 0\n",
        "    while(idx < len(data) - seq_len):\n",
        "        un_data.append(np.array(data.iloc[idx:idx+seq_len]))\n",
        "        un_labels.append(np.array(labels.iloc[idx:idx+seq_len]))\n",
        "        idx += stride\n",
        "    return np.array(un_data), np.array(un_labels)"
      ],
      "execution_count": null,
      "outputs": []
    },
    {
      "cell_type": "code",
      "metadata": {
        "id": "XxBvOyL0Vy38"
      },
      "source": [
        "# Data preprocessing methods\n",
        "\n",
        "\n",
        "class data(Dataset):\n",
        "    def __init__(self, x,y):\n",
        "\n",
        "        self.x = torch.from_numpy(x).float()\n",
        "        self.y = torch.from_numpy(np.array([1 if sum(y_i) > 0 else 0 for y_i in y])).float()\n",
        "\n",
        "\n",
        "        self.data_len = x.shape[0]\n",
        "\n",
        "    def __len__(self):\n",
        "        return self.data_len\n",
        "\n",
        "    def __getitem__(self, idx):\n",
        "        return self.x[idx], self.y[idx]"
      ],
      "execution_count": null,
      "outputs": []
    },
    {
      "cell_type": "code",
      "metadata": {
        "id": "5pqfVAQnZbRU"
      },
      "source": [
        "# Anomaly Score Function\n",
        "\n",
        "def Anomaly_score(x, G_z, Lambda=0.1):\n",
        "    residual_loss = torch.sum(torch.abs(x-G_z)) # Residual Loss\n",
        "\n",
        "    # x_feature is a rich intermediate feature representation for real data x\n",
        "    output, x_feature = netD(x.to(device))\n",
        "    # G_z_feature is a rich intermediate feature representation for fake data G(z)\n",
        "    output, G_z_feature = netD(G_z.to(device))\n",
        "\n",
        "    discrimination_loss = torch.sum(torch.abs(x_feature-G_z_feature)) # Discrimination loss\n",
        "\n",
        "    total_loss = (1-Lambda)*residual_loss.to(device) + Lambda*discrimination_loss\n",
        "    return total_loss"
      ],
      "execution_count": null,
      "outputs": []
    },
    {
      "cell_type": "markdown",
      "metadata": {
        "id": "ghwDkTlPS9eP"
      },
      "source": [
        "# Variable Initialization"
      ]
    },
    {
      "cell_type": "code",
      "metadata": {
        "id": "dJHWOO8ai2DQ"
      },
      "source": [
        "window_length = 60\n",
        "stride = 1\n",
        "batch_size=32\n",
        "epochs=100\n",
        "lr=0.0002\n",
        "device = \"cuda\"# select the device\n",
        "seq_len = window_length # sequence length is equal to the window length\n",
        "in_dim = 1 # input dimension is same as number of feature"
      ],
      "execution_count": null,
      "outputs": []
    },
    {
      "cell_type": "markdown",
      "metadata": {
        "id": "RyH0i4_WRO13"
      },
      "source": [
        "# Reading data and Pre-processing\n",
        "\n",
        "---\n",
        "\n"
      ]
    },
    {
      "cell_type": "code",
      "metadata": {
        "id": "KyJ-J9q3eTY3"
      },
      "source": [
        "# Reading the annotation file and data\n",
        "\n",
        "df_x, df_y = read_data('cpu_utilization_asg_misconfiguration.csv', 'combined_windows.json', 'realKnownCause/cpu_utilization_asg_misconfiguration.csv')"
      ],
      "execution_count": null,
      "outputs": []
    },
    {
      "cell_type": "code",
      "metadata": {
        "id": "a9Jh5Mi0f4GF"
      },
      "source": [
        "# Dropping the timestamp field\n",
        "\n",
        "df_x.drop('timestamp', axis=1, inplace=True)"
      ],
      "execution_count": null,
      "outputs": []
    },
    {
      "cell_type": "code",
      "metadata": {
        "id": "YJxLe3fjcPQ7"
      },
      "source": [
        "# Scaling the data\n",
        "\n",
        "min_max_scaler = preprocessing.StandardScaler()\n",
        "np_scaled = min_max_scaler.fit_transform(df_x[['value']])\n",
        "df_x2 = pd.DataFrame(np_scaled)"
      ],
      "execution_count": null,
      "outputs": []
    },
    {
      "cell_type": "code",
      "metadata": {
        "id": "FzbWJDtzg9sJ"
      },
      "source": [
        "x, y = unroll(df_x2, df_y)"
      ],
      "execution_count": null,
      "outputs": []
    },
    {
      "cell_type": "code",
      "metadata": {
        "id": "FttRRO-Ag9vB",
        "outputId": "2f410cbf-3ece-4b72-f39d-3910a2f6544e",
        "colab": {
          "base_uri": "https://localhost:8080/"
        }
      },
      "source": [
        "x.shape, y.shape"
      ],
      "execution_count": null,
      "outputs": [
        {
          "output_type": "execute_result",
          "data": {
            "text/plain": [
              "((17990, 60, 1), (17990, 60, 1))"
            ]
          },
          "metadata": {},
          "execution_count": 12
        }
      ]
    },
    {
      "cell_type": "code",
      "metadata": {
        "id": "MLW9E7Zlg9x-"
      },
      "source": [
        "dataset = data(x,y)"
      ],
      "execution_count": null,
      "outputs": []
    },
    {
      "cell_type": "code",
      "metadata": {
        "id": "1kJEC--jXUT2"
      },
      "source": [
        "dataloader = torch.utils.data.DataLoader(dataset, batch_size=batch_size,\n",
        "                                         shuffle=True)"
      ],
      "execution_count": null,
      "outputs": []
    },
    {
      "cell_type": "code",
      "metadata": {
        "id": "bB1y3MzvXYIL",
        "outputId": "0e437bda-e29d-4c9e-fdad-9633801de844",
        "colab": {
          "base_uri": "https://localhost:8080/"
        }
      },
      "source": [
        "dataset.x.shape, dataset.y.shape"
      ],
      "execution_count": null,
      "outputs": [
        {
          "output_type": "execute_result",
          "data": {
            "text/plain": [
              "(torch.Size([17990, 60, 1]), torch.Size([17990]))"
            ]
          },
          "metadata": {},
          "execution_count": 15
        }
      ]
    },
    {
      "cell_type": "markdown",
      "metadata": {
        "id": "mIGwd2MkfV8J"
      },
      "source": [
        "# Visualization of Data"
      ]
    },
    {
      "source": [
        "# change the type of timestamp column for plotting\n",
        "\n",
        "\n",
        "# Assuming 'df_x' was originally created with a 'timestamp' column\n",
        "# If 'df_x' was loaded from a file, you'll need to reload it to have the 'timestamp' column\n",
        "\n",
        "# visualisation of anomaly throughout time (viz 1)\n",
        "fig, ax = plt.subplots(figsize=(12, 5))\n",
        "\n",
        "# Use df_x.index instead of df_x['timestamp'] for the x-axis\n",
        "ax.plot(df_x.index, df_x['value'], color='blue', linewidth=0.6)\n",
        "\n",
        "ax.set_title('CPU usage data of AWS')\n",
        "\n",
        "plt.xlabel('Index') # Changed x-axis label to 'Index'\n",
        "plt.xticks(rotation=45)\n",
        "plt.ylabel('CPU usage data of AWS')\n",
        "plt.show()"
      ],
      "cell_type": "code",
      "metadata": {
        "id": "nPzBZUuxsv3Q",
        "outputId": "51587457-788b-4627-baee-2b98efef56b6",
        "colab": {
          "base_uri": "https://localhost:8080/",
          "height": 514
        }
      },
      "execution_count": null,
      "outputs": [
        {
          "output_type": "display_data",
          "data": {
            "text/plain": [
              "<Figure size 1200x500 with 1 Axes>"
            ],
            "image/png": "[encoded data removed]"
          },
          "metadata": {}
        }
      ]
    },
    {
      "source": [
        "with open('combined_windows.json') as f:\n",
        "    j_label = json.load(f)\n",
        "anom = j_label['realKnownCause/cpu_utilization_asg_misconfiguration.csv']\n",
        "\n",
        "# Convert anomaly timestamps to pandas Timestamp objects\n",
        "anom_start = pd.to_datetime(anom[0][0])\n",
        "anom_end = pd.to_datetime(anom[0][1])\n",
        "\n",
        "# Find the index corresponding to the anomaly start and"
      ],
      "cell_type": "code",
      "metadata": {
        "id": "enryX7yGs58G"
      },
      "execution_count": null,
      "outputs": []
    },
    {
      "cell_type": "markdown",
      "metadata": {
        "id": "wZPK1NTHURuY"
      },
      "source": [
        "# Generator and Discriminator Functions"
      ]
    },
    {
      "cell_type": "code",
      "metadata": {
        "id": "tTCZF_yyjGDx"
      },
      "source": [
        "class LSTMGenerator(nn.Module):\n",
        "    \"\"\"An LSTM based generator. It expects a sequence of noise vectors as input.\n",
        "    Args:\n",
        "        in_dim: Input noise dimensionality\n",
        "        out_dim: Output dimensionality\n",
        "        n_layers: number of lstm layers\n",
        "        hidden_dim: dimensionality of the hidden layer of lstms\n",
        "    Input: noise of shape (batch_size, seq_len, in_dim)\n",
        "    Output: sequence of shape (batch_size, seq_len, out_dim)\n",
        "    \"\"\"\n",
        "\n",
        "    def __init__(self, in_dim, out_dim, device=None):\n",
        "        super().__init__()\n",
        "        self.out_dim = out_dim\n",
        "        self.device = device\n",
        "\n",
        "        self.lstm0 = nn.LSTM(in_dim, hidden_size=32, num_layers=1, batch_first=True)\n",
        "        self.lstm1 = nn.LSTM(input_size=32, hidden_size=64, num_layers=1, batch_first=True)\n",
        "        self.lstm2 = nn.LSTM(input_size=64, hidden_size=128, num_layers=1, batch_first=True)\n",
        "\n",
        "        self.linear = nn.Sequential(nn.Linear(in_features=128, out_features=out_dim), nn.Tanh())\n",
        "\n",
        "    def forward(self, input):\n",
        "        batch_size, seq_len = input.size(0), input.size(1)\n",
        "        h_0 = torch.zeros(1, batch_size, 32).to(self.device)\n",
        "        c_0 = torch.zeros(1, batch_size, 32).to(self.device)\n",
        "\n",
        "        recurrent_features, (h_1, c_1) = self.lstm0(input, (h_0, c_0))\n",
        "        recurrent_features, (h_2, c_2) = self.lstm1(recurrent_features)\n",
        "        recurrent_features, _ = self.lstm2(recurrent_features)\n",
        "\n",
        "        outputs = self.linear(recurrent_features.contiguous().view(batch_size*seq_len, 128))\n",
        "        outputs = outputs.view(batch_size, seq_len, self.out_dim)\n",
        "        return outputs, recurrent_features\n",
        "\n",
        "\n",
        "class LSTMDiscriminator(nn.Module):\n",
        "    \"\"\"An LSTM based discriminator. It expects a sequence as input and outputs a probability for each element.\n",
        "    Args:\n",
        "        in_dim: Input noise dimensionality\n",
        "        n_layers: number of lstm layers\n",
        "        hidden_dim: dimensionality of the hidden layer of lstms\n",
        "    Inputs: sequence of shape (batch_size, seq_len, in_dim)\n",
        "    Output: sequence of shape (batch_size, seq_len, 1)\n",
        "    \"\"\"\n",
        "\n",
        "    def __init__(self, in_dim, device=None):\n",
        "        super().__init__()\n",
        "        self.device = device\n",
        "\n",
        "        self.lstm = nn.LSTM(input_size=in_dim, hidden_size=100, num_layers=1, batch_first=True)\n",
        "        self.linear = nn.Sequential(nn.Linear(100, 1), nn.Sigmoid())\n",
        "\n",
        "    def forward(self, input):\n",
        "        batch_size, seq_len = input.size(0), input.size(1)\n",
        "        h_0 = torch.zeros(1, batch_size, 100).to(self.device)\n",
        "        c_0 = torch.zeros(1, batch_size, 100).to(self.device)\n",
        "\n",
        "        recurrent_features, _ = self.lstm(input, (h_0, c_0))\n",
        "        outputs = self.linear(recurrent_features.contiguous().view(batch_size*seq_len, 100))\n",
        "        outputs = outputs.view(batch_size, seq_len, 1)\n",
        "        return outputs, recurrent_features"
      ],
      "execution_count": null,
      "outputs": []
    },
    {
      "cell_type": "code",
      "metadata": {
        "id": "J5gwLjbdg99r"
      },
      "source": [
        "# Create generator and discriminator models\n",
        "netD = LSTMDiscriminator(in_dim=in_dim, device=device).to(device)\n",
        "netG = LSTMGenerator(in_dim=in_dim, out_dim=in_dim, device=device).to(device)"
      ],
      "execution_count": null,
      "outputs": []
    },
    {
      "cell_type": "code",
      "metadata": {
        "id": "9m2nmB3pg-CF",
        "outputId": "7da3dec5-bd77-45d1-c326-8d8ac8346ac1",
        "colab": {
          "base_uri": "https://localhost:8080/"
        }
      },
      "source": [
        "print(\"|Discriminator Architecture|\\n\", netD)\n",
        "print(\"|Generator Architecture|\\n\", netG)"
      ],
      "execution_count": null,
      "outputs": [
        {
          "output_type": "stream",
          "name": "stdout",
          "text": [
            "|Discriminator Architecture|\n",
            " LSTMDiscriminator(\n",
            "  (lstm): LSTM(1, 100, batch_first=True)\n",
            "  (linear): Sequential(\n",
            "    (0): Linear(in_features=100, out_features=1, bias=True)\n",
            "    (1): Sigmoid()\n",
            "  )\n",
            ")\n",
            "|Generator Architecture|\n",
            " LSTMGenerator(\n",
            "  (lstm0): LSTM(1, 32, batch_first=True)\n",
            "  (lstm1): LSTM(32, 64, batch_first=True)\n",
            "  (lstm2): LSTM(64, 128, batch_first=True)\n",
            "  (linear): Sequential(\n",
            "    (0): Linear(in_features=128, out_features=1, bias=True)\n",
            "    (1): Tanh()\n",
            "  )\n",
            ")\n"
          ]
        }
      ]
    },
    {
      "cell_type": "markdown",
      "metadata": {
        "id": "Byzq_BM9WeLQ"
      },
      "source": [
        "# Hyperparameter Definition"
      ]
    },
    {
      "cell_type": "code",
      "metadata": {
        "id": "NcPRHSSokwVu"
      },
      "source": [
        "# Setup loss function\n",
        "criterion = nn.BCELoss().to(device)\n",
        "\n",
        "# setup optimizer\n",
        "optimizerD = optim.Adam(netD.parameters(), lr=lr)\n",
        "optimizerG = optim.Adam(netG.parameters(), lr=lr)"
      ],
      "execution_count": null,
      "outputs": []
    },
    {
      "cell_type": "markdown",
      "metadata": {
        "id": "bbk43X-LYKpU"
      },
      "source": [
        "# Adversarial Training of Generator and Discriminator Models"
      ]
    },
    {
      "cell_type": "code",
      "metadata": {
        "id": "6qvBBfZtkwfT",
        "outputId": "f9a0ad8f-a7ab-4f32-b657-76421ff9a8d5",
        "colab": {
          "base_uri": "https://localhost:8080/"
        }
      },
      "source": [
        "real_label = 1.\n",
        "fake_label = 0.\n",
        "\n",
        "for epoch in range(epochs):\n",
        "    for i, (x,y) in enumerate(dataloader, 0):\n",
        "\n",
        "        ############################\n",
        "        # (1) Update D network: maximize log(D(x)) + log(1 - D(G(z)))\n",
        "        ###########################\n",
        "\n",
        "        #Train with real data\n",
        "        netD.zero_grad()\n",
        "        real = x.to(device)\n",
        "        batch_size, seq_len = real.size(0), real.size(1)\n",
        "        label = torch.full((batch_size, seq_len, 1), real_label, device=device)\n",
        "\n",
        "        output,_ = netD.forward(real)\n",
        "        errD_real = criterion(output, label)\n",
        "        errD_real.backward()\n",
        "        optimizerD.step()\n",
        "        D_x = output.mean().item()\n",
        "\n",
        "        #Train with fake data\n",
        "        noise = Variable(init.normal(torch.Tensor(batch_size,seq_len,in_dim),mean=0,std=0.1)).cuda()\n",
        "        fake,_ = netG.forward(noise)\n",
        "        output,_ = netD.forward(fake.detach()) # detach causes gradient is no longer being computed or stored to save memeory\n",
        "        label.fill_(fake_label)\n",
        "        errD_fake = criterion(output, label)\n",
        "        errD_fake.backward()\n",
        "        D_G_z1 = output.mean().item()\n",
        "        errD = errD_real + errD_fake\n",
        "        optimizerD.step()\n",
        "\n",
        "        ############################\n",
        "        # (2) Update G network: maximize log(D(G(z)))\n",
        "        ###########################\n",
        "        netG.zero_grad()\n",
        "        noise = Variable(init.normal(torch.Tensor(batch_size,seq_len,in_dim),mean=0,std=0.1)).cuda()\n",
        "        fake,_ = netG.forward(noise)\n",
        "        label.fill_(real_label)\n",
        "        output,_ = netD.forward(fake)\n",
        "        errG = criterion(output, label)\n",
        "        errG.backward()\n",
        "        optimizerG.step()\n",
        "        D_G_z2 = output.mean().item()\n",
        "\n",
        "\n",
        "\n",
        "    print('[%d/%d][%d/%d] Loss_D: %.4f Loss_G: %.4f D(x): %.4f D(G(z)): %.4f / %.4f'\n",
        "          % (epoch, epochs, i, len(dataloader),\n",
        "             errD.item(), errG.item(), D_x, D_G_z1, D_G_z2), end='')\n",
        "    print()"
      ],
      "execution_count": null,
      "outputs": [
        {
          "output_type": "stream",
          "name": "stderr",
          "text": [
            "<ipython-input-24-a46542397a14>:24: FutureWarning: `nn.init.normal` is now deprecated in favor of `nn.init.normal_`.\n",
            "  noise = Variable(init.normal(torch.Tensor(batch_size,seq_len,in_dim),mean=0,std=0.1)).cuda()\n",
            "<ipython-input-24-a46542397a14>:38: FutureWarning: `nn.init.normal` is now deprecated in favor of `nn.init.normal_`.\n",
            "  noise = Variable(init.normal(torch.Tensor(batch_size,seq_len,in_dim),mean=0,std=0.1)).cuda()\n"
          ]
        },
        {
          "output_type": "stream",
          "name": "stdout",
          "text": [
            "[0/100][562/563] Loss_D: 1.3881 Loss_G: 0.5872 D(x): 0.5625 D(G(z)): 0.5560 / 0.5560\n",
            "[1/100][562/563] Loss_D: 0.9270 Loss_G: 1.1655 D(x): 0.6051 D(G(z)): 0.3305 / 0.3290\n",
            "[2/100][562/563] Loss_D: 1.1302 Loss_G: 0.7059 D(x): 0.6608 D(G(z)): 0.5006 / 0.5001\n",
            "[3/100][562/563] Loss_D: 0.3611 Loss_G: 4.1480 D(x): 0.8482 D(G(z)): 0.0788 / 0.0788\n",
            "[4/100][562/563] Loss_D: 0.9695 Loss_G: 0.7271 D(x): 0.7992 D(G(z)): 0.4895 / 0.4895\n",
            "[5/100][562/563] Loss_D: 1.6162 Loss_G: 0.3337 D(x): 0.7197 D(G(z)): 0.7213 / 0.7172\n",
            "[6/100][562/563] Loss_D: 1.4604 Loss_G: 0.4646 D(x): 0.6272 D(G(z)): 0.6289 / 0.6285\n",
            "[7/100][562/563] Loss_D: 0.4444 Loss_G: 1.5393 D(x): 0.8967 D(G(z)): 0.2502 / 0.2497\n",
            "[8/100][562/563] Loss_D: 1.4337 Loss_G: 0.4494 D(x): 0.6625 D(G(z)): 0.6388 / 0.6384\n",
            "[9/100][562/563] Loss_D: 1.5803 Loss_G: 0.4203 D(x): 0.6124 D(G(z)): 0.6575 / 0.6570\n",
            "[10/100][562/563] Loss_D: 1.4928 Loss_G: 0.4217 D(x): 0.6556 D(G(z)): 0.6566 / 0.6561\n",
            "[11/100][562/563] Loss_D: 0.4920 Loss_G: 1.4905 D(x): 0.9072 D(G(z)): 0.2824 / 0.2817\n",
            "[12/100][562/563] Loss_D: 0.3500 Loss_G: 2.0514 D(x): 0.8945 D(G(z)): 0.1745 / 0.1742\n",
            "[13/100][562/563] Loss_D: 0.6937 Loss_G: 0.9148 D(x): 0.8771 D(G(z)): 0.4123 / 0.4101\n",
            "[14/100][562/563] Loss_D: 0.5980 Loss_G: 2.0201 D(x): 0.8195 D(G(z)): 0.1709 / 0.1711\n",
            "[15/100][562/563] Loss_D: 0.2408 Loss_G: 3.3021 D(x): 0.9429 D(G(z)): 0.1214 / 0.1213\n",
            "[16/100][562/563] Loss_D: 0.1310 Loss_G: 4.3843 D(x): 0.9741 D(G(z)): 0.0716 / 0.0712\n",
            "[17/100][562/563] Loss_D: 0.1018 Loss_G: 6.0104 D(x): 0.9732 D(G(z)): 0.0496 / 0.0495\n",
            "[18/100][562/563] Loss_D: 0.0925 Loss_G: 5.8953 D(x): 0.9804 D(G(z)): 0.0487 / 0.0483\n",
            "[19/100][562/563] Loss_D: 0.1984 Loss_G: 3.8710 D(x): 0.9541 D(G(z)): 0.0936 / 0.0931\n",
            "[20/100][562/563] Loss_D: 0.1851 Loss_G: 2.4682 D(x): 0.9701 D(G(z)): 0.1191 / 0.1189\n",
            "[21/100][562/563] Loss_D: 0.3759 Loss_G: 2.5930 D(x): 0.8735 D(G(z)): 0.1110 / 0.1106\n",
            "[22/100][562/563] Loss_D: 0.2212 Loss_G: 4.1640 D(x): 0.9332 D(G(z)): 0.0643 / 0.0664\n",
            "[23/100][562/563] Loss_D: 0.1190 Loss_G: 3.5068 D(x): 0.9766 D(G(z)): 0.0728 / 0.0727\n",
            "[24/100][562/563] Loss_D: 1.1014 Loss_G: 1.9441 D(x): 0.5916 D(G(z)): 0.2187 / 0.2201\n",
            "[25/100][562/563] Loss_D: 0.8703 Loss_G: 0.8242 D(x): 0.8131 D(G(z)): 0.4451 / 0.4450\n",
            "[26/100][562/563] Loss_D: 0.4567 Loss_G: 1.2140 D(x): 0.9444 D(G(z)): 0.3150 / 0.3096\n",
            "[27/100][562/563] Loss_D: 0.3686 Loss_G: 2.8174 D(x): 0.9331 D(G(z)): 0.1883 / 0.1879\n",
            "[28/100][562/563] Loss_D: 0.2541 Loss_G: 3.1333 D(x): 0.9115 D(G(z)): 0.1110 / 0.1107\n",
            "[29/100][562/563] Loss_D: 1.1343 Loss_G: 0.6493 D(x): 0.7493 D(G(z)): 0.5370 / 0.5310\n",
            "[30/100][562/563] Loss_D: 0.7923 Loss_G: 0.9480 D(x): 0.8113 D(G(z)): 0.3959 / 0.3950\n",
            "[31/100][562/563] Loss_D: 0.6712 Loss_G: 1.1485 D(x): 0.8357 D(G(z)): 0.3248 / 0.3249\n",
            "[32/100][562/563] Loss_D: 0.7722 Loss_G: 0.9695 D(x): 0.8046 D(G(z)): 0.3851 / 0.3868\n",
            "[33/100][562/563] Loss_D: 0.4000 Loss_G: 1.3548 D(x): 0.9561 D(G(z)): 0.2773 / 0.2770\n",
            "[34/100][562/563] Loss_D: 0.7993 Loss_G: 2.2421 D(x): 0.7264 D(G(z)): 0.1689 / 0.1470\n",
            "[35/100][562/563] Loss_D: 0.2732 Loss_G: 2.9414 D(x): 0.9459 D(G(z)): 0.1406 / 0.1402\n",
            "[36/100][562/563] Loss_D: 0.1500 Loss_G: 3.3095 D(x): 0.9602 D(G(z)): 0.0769 / 0.0768\n",
            "[37/100][562/563] Loss_D: 0.6460 Loss_G: 3.3442 D(x): 0.8160 D(G(z)): 0.0706 / 0.0709\n",
            "[38/100][562/563] Loss_D: 0.1916 Loss_G: 4.3772 D(x): 0.9503 D(G(z)): 0.0888 / 0.0887\n",
            "[39/100][562/563] Loss_D: 1.0365 Loss_G: 4.8915 D(x): 0.8082 D(G(z)): 0.0509 / 0.0510\n",
            "[40/100][562/563] Loss_D: 0.0857 Loss_G: 6.0551 D(x): 0.9732 D(G(z)): 0.0393 / 0.0393\n",
            "[41/100][562/563] Loss_D: 0.0638 Loss_G: 6.4371 D(x): 0.9831 D(G(z)): 0.0327 / 0.0326\n",
            "[42/100][562/563] Loss_D: 0.0559 Loss_G: 7.3787 D(x): 0.9833 D(G(z)): 0.0271 / 0.0271\n",
            "[43/100][562/563] Loss_D: 0.1214 Loss_G: 4.3296 D(x): 0.9776 D(G(z)): 0.0613 / 0.0613\n",
            "[44/100][562/563] Loss_D: 0.1163 Loss_G: 5.1483 D(x): 0.9717 D(G(z)): 0.0555 / 0.0555\n",
            "[45/100][562/563] Loss_D: 0.1173 Loss_G: 4.3496 D(x): 0.9743 D(G(z)): 0.0611 / 0.0611\n",
            "[46/100][562/563] Loss_D: 0.5631 Loss_G: 1.8369 D(x): 0.8493 D(G(z)): 0.1917 / 0.1915\n",
            "[47/100][562/563] Loss_D: 0.2135 Loss_G: 1.9421 D(x): 0.9856 D(G(z)): 0.1632 / 0.1622\n",
            "[48/100][562/563] Loss_D: 0.4018 Loss_G: 2.3306 D(x): 0.8657 D(G(z)): 0.1223 / 0.1225\n",
            "[49/100][562/563] Loss_D: 1.4571 Loss_G: 0.4352 D(x): 0.7065 D(G(z)): 0.6545 / 0.6501\n",
            "[50/100][562/563] Loss_D: 0.2428 Loss_G: 2.2856 D(x): 0.9502 D(G(z)): 0.1419 / 0.1414\n",
            "[51/100][562/563] Loss_D: 0.1997 Loss_G: 3.3583 D(x): 0.9274 D(G(z)): 0.0776 / 0.0773\n",
            "[52/100][562/563] Loss_D: 0.4865 Loss_G: 3.2982 D(x): 0.8577 D(G(z)): 0.1994 / 0.1173\n",
            "[53/100][562/563] Loss_D: 0.5920 Loss_G: 2.8576 D(x): 0.8170 D(G(z)): 0.0826 / 0.0807\n",
            "[54/100][562/563] Loss_D: 1.3177 Loss_G: 0.5433 D(x): 0.6617 D(G(z)): 0.5822 / 0.5822\n",
            "[55/100][562/563] Loss_D: 0.1998 Loss_G: 2.9682 D(x): 0.9436 D(G(z)): 0.0981 / 0.0979\n",
            "[56/100][562/563] Loss_D: 0.1902 Loss_G: 2.6796 D(x): 0.9750 D(G(z)): 0.1167 / 0.1161\n",
            "[57/100][562/563] Loss_D: 0.1266 Loss_G: 3.1524 D(x): 0.9788 D(G(z)): 0.0792 / 0.0791\n",
            "[58/100][562/563] Loss_D: 0.1398 Loss_G: 2.7387 D(x): 0.9821 D(G(z)): 0.0987 / 0.0982\n",
            "[59/100][562/563] Loss_D: 0.5215 Loss_G: 1.1847 D(x): 0.9247 D(G(z)): 0.3334 / 0.3263\n",
            "[60/100][562/563] Loss_D: 0.8723 Loss_G: 0.8340 D(x): 0.7701 D(G(z)): 0.4407 / 0.4404\n",
            "[61/100][562/563] Loss_D: 0.9058 Loss_G: 0.7259 D(x): 0.8313 D(G(z)): 0.4942 / 0.4945\n",
            "[62/100][562/563] Loss_D: 1.2563 Loss_G: 0.7198 D(x): 0.6327 D(G(z)): 0.5031 / 0.5029\n",
            "[63/100][562/563] Loss_D: 0.3075 Loss_G: 2.1547 D(x): 0.9376 D(G(z)): 0.1722 / 0.1716\n",
            "[64/100][562/563] Loss_D: 0.8152 Loss_G: 1.5690 D(x): 0.6609 D(G(z)): 0.2725 / 0.2247\n",
            "[65/100][562/563] Loss_D: 0.4755 Loss_G: 1.7718 D(x): 0.8560 D(G(z)): 0.1931 / 0.1930\n",
            "[66/100][562/563] Loss_D: 0.4091 Loss_G: 2.0681 D(x): 0.8962 D(G(z)): 0.1496 / 0.1494\n",
            "[67/100][562/563] Loss_D: 0.0933 Loss_G: 4.1013 D(x): 0.9777 D(G(z)): 0.0507 / 0.0494\n",
            "[68/100][562/563] Loss_D: 0.0744 Loss_G: 4.4516 D(x): 0.9891 D(G(z)): 0.0454 / 0.0453\n",
            "[69/100][562/563] Loss_D: 0.0654 Loss_G: 4.2730 D(x): 0.9896 D(G(z)): 0.0402 / 0.0402\n",
            "[70/100][562/563] Loss_D: 0.0815 Loss_G: 4.4201 D(x): 0.9722 D(G(z)): 0.0337 / 0.0337\n",
            "[71/100][562/563] Loss_D: 0.0818 Loss_G: 4.9477 D(x): 0.9674 D(G(z)): 0.0264 / 0.0264\n",
            "[72/100][562/563] Loss_D: 0.0673 Loss_G: 3.5123 D(x): 0.9911 D(G(z)): 0.0484 / 0.0484\n",
            "[73/100][562/563] Loss_D: 0.0585 Loss_G: 4.7001 D(x): 0.9878 D(G(z)): 0.0347 / 0.0347\n",
            "[74/100][562/563] Loss_D: 0.0537 Loss_G: 4.4088 D(x): 0.9884 D(G(z)): 0.0317 / 0.0316\n",
            "[75/100][562/563] Loss_D: 1.1782 Loss_G: 1.6487 D(x): 0.8628 D(G(z)): 0.3830 / 0.2716\n",
            "[76/100][562/563] Loss_D: 1.3864 Loss_G: 0.5521 D(x): 0.6414 D(G(z)): 0.5811 / 0.5813\n",
            "[77/100][562/563] Loss_D: 0.3680 Loss_G: 1.5060 D(x): 0.9364 D(G(z)): 0.2392 / 0.2374\n",
            "[78/100][562/563] Loss_D: 1.0409 Loss_G: 0.9513 D(x): 0.9707 D(G(z)): 0.5304 / 0.3929\n",
            "[79/100][562/563] Loss_D: 0.5531 Loss_G: 2.1108 D(x): 0.9768 D(G(z)): 0.3162 / 0.2008\n",
            "[80/100][562/563] Loss_D: 0.0976 Loss_G: 3.5172 D(x): 0.9742 D(G(z)): 0.0590 / 0.0576\n",
            "[81/100][562/563] Loss_D: 0.0671 Loss_G: 4.5802 D(x): 0.9778 D(G(z)): 0.0320 / 0.0325\n",
            "[82/100][562/563] Loss_D: 0.0427 Loss_G: 5.7594 D(x): 0.9911 D(G(z)): 0.0257 / 0.0257\n",
            "[83/100][562/563] Loss_D: 0.5802 Loss_G: 1.1079 D(x): 0.9236 D(G(z)): 0.3610 / 0.3551\n",
            "[84/100][562/563] Loss_D: 0.6610 Loss_G: 1.6171 D(x): 0.8051 D(G(z)): 0.2244 / 0.2253\n",
            "[85/100][562/563] Loss_D: 0.2323 Loss_G: 2.4773 D(x): 0.9452 D(G(z)): 0.1279 / 0.1275\n",
            "[86/100][562/563] Loss_D: 0.4467 Loss_G: 2.2922 D(x): 0.8806 D(G(z)): 0.2175 / 0.2039\n",
            "[87/100][562/563] Loss_D: 0.2026 Loss_G: 4.0455 D(x): 0.8939 D(G(z)): 0.0435 / 0.0437\n",
            "[88/100][562/563] Loss_D: 0.9675 Loss_G: 0.6455 D(x): 0.8664 D(G(z)): 0.5357 / 0.5334\n",
            "[89/100][562/563] Loss_D: 0.7404 Loss_G: 1.1586 D(x): 0.8071 D(G(z)): 0.3608 / 0.3537\n",
            "[90/100][562/563] Loss_D: 0.8501 Loss_G: 1.2918 D(x): 0.8100 D(G(z)): 0.3289 / 0.3172\n",
            "[91/100][562/563] Loss_D: 0.2341 Loss_G: 3.0269 D(x): 0.9427 D(G(z)): 0.1197 / 0.1189\n",
            "[92/100][562/563] Loss_D: 0.6800 Loss_G: 1.2557 D(x): 0.8084 D(G(z)): 0.3246 / 0.3226\n",
            "[93/100][562/563] Loss_D: 0.0876 Loss_G: 4.8687 D(x): 0.9863 D(G(z)): 0.0519 / 0.0518\n",
            "[94/100][562/563] Loss_D: 0.1685 Loss_G: 4.5634 D(x): 0.9640 D(G(z)): 0.0833 / 0.0835\n",
            "[95/100][562/563] Loss_D: 0.1221 Loss_G: 2.6537 D(x): 0.9849 D(G(z)): 0.0903 / 0.0903\n",
            "[96/100][562/563] Loss_D: 0.2111 Loss_G: 2.4810 D(x): 0.9636 D(G(z)): 0.1270 / 0.1266\n",
            "[97/100][562/563] Loss_D: 0.0707 Loss_G: 4.1180 D(x): 0.9824 D(G(z)): 0.0403 / 0.0402\n",
            "[98/100][562/563] Loss_D: 0.0588 Loss_G: 4.4436 D(x): 0.9863 D(G(z)): 0.0349 / 0.0346\n",
            "[99/100][562/563] Loss_D: 0.0620 Loss_G: 6.7589 D(x): 0.9759 D(G(z)): 0.0242 / 0.0242\n"
          ]
        }
      ]
    },
    {
      "cell_type": "markdown",
      "metadata": {
        "id": "bjVCqtiKZD2Y"
      },
      "source": [
        "# Test data Preparation"
      ]
    },
    {
      "cell_type": "code",
      "metadata": {
        "id": "qz1RdqDAqToy"
      },
      "source": [
        "\n",
        "stride = window_length\n",
        "\n",
        "x_test, y_test = unroll(df_x2, df_y)"
      ],
      "execution_count": null,
      "outputs": []
    },
    {
      "cell_type": "code",
      "metadata": {
        "id": "vysqVs0jqTpR",
        "outputId": "a7cc4ec3-0b0d-4b41-ea41-4a6e7df169c0",
        "colab": {
          "base_uri": "https://localhost:8080/"
        }
      },
      "source": [
        "x_test.shape, y_test.shape"
      ],
      "execution_count": null,
      "outputs": [
        {
          "output_type": "execute_result",
          "data": {
            "text/plain": [
              "((300, 60, 1), (300, 60, 1))"
            ]
          },
          "metadata": {},
          "execution_count": 26
        }
      ]
    },
    {
      "cell_type": "code",
      "metadata": {
        "id": "bd6kdLkeqTpZ"
      },
      "source": [
        "dataset_test = data(x_test,y_test)"
      ],
      "execution_count": null,
      "outputs": []
    },
    {
      "cell_type": "code",
      "metadata": {
        "id": "WQM_AnqaqTpd",
        "outputId": "e0190b79-dd09-4a0b-b6c9-645cb3465afb",
        "colab": {
          "base_uri": "https://localhost:8080/"
        }
      },
      "source": [
        "dataset_test.x.shape, dataset_test.y.shape"
      ],
      "execution_count": null,
      "outputs": [
        {
          "output_type": "execute_result",
          "data": {
            "text/plain": [
              "(torch.Size([300, 60, 1]), torch.Size([300]))"
            ]
          },
          "metadata": {},
          "execution_count": 28
        }
      ]
    },
    {
      "cell_type": "code",
      "metadata": {
        "id": "Px6kbCuPkwlt"
      },
      "source": [
        "test_dataloader = torch.utils.data.DataLoader(dataset_test, batch_size=1,\n",
        "                                         shuffle=False)"
      ],
      "execution_count": null,
      "outputs": []
    },
    {
      "cell_type": "markdown",
      "metadata": {
        "id": "RgNn2IqtZwKr"
      },
      "source": [
        "# Inverse mapping to latent space and reconstruction of data for estimating anomaly score"
      ]
    },
    {
      "cell_type": "code",
      "metadata": {
        "id": "d0nTT0NwrAYE",
        "outputId": "951a93f1-13c7-4dac-c6a2-a568608764bb",
        "colab": {
          "base_uri": "https://localhost:8080/"
        }
      },
      "source": [
        "loss_list = []\n",
        "#y_list = []\n",
        "for i, (x,y) in enumerate(test_dataloader):\n",
        "    print(i, y)\n",
        "\n",
        "    z = Variable(init.normal(torch.zeros(1,\n",
        "                                     window_length,\n",
        "                                     1),mean=0,std=0.1),requires_grad=True)\n",
        "    #z = x\n",
        "    z_optimizer = torch.optim.Adam([z],lr=1e-2)\n",
        "\n",
        "    loss = None\n",
        "    for j in range(50): # set your interation range\n",
        "        gen_fake,_ = netG(z.cuda())\n",
        "        loss = Anomaly_score(Variable(x).cuda(), gen_fake)\n",
        "        loss.backward()\n",
        "        z_optimizer.step()\n",
        "\n",
        "    loss_list.append(loss) # Store the loss from the final iteration\n",
        "    #y_list.append(y) # Store the corresponding anomaly label\n",
        "    print('~~~~~~~~loss={},  y={} ~~~~~~~~~~'.format(loss, y))\n",
        "    #break"
      ],
      "execution_count": null,
      "outputs": [
        {
          "output_type": "stream",
          "name": "stdout",
          "text": [
            "0 tensor([0.])\n"
          ]
        },
        {
          "output_type": "stream",
          "name": "stderr",
          "text": [
            "<ipython-input-30-8a06fe2b34b7>:6: FutureWarning: `nn.init.normal` is now deprecated in favor of `nn.init.normal_`.\n",
            "  z = Variable(init.normal(torch.zeros(1,\n"
          ]
        },
        {
          "output_type": "stream",
          "name": "stdout",
          "text": [
            "~~~~~~~~loss=197.67434692382812,  y=tensor([0.]) ~~~~~~~~~~\n",
            "1 tensor([0.])\n",
            "~~~~~~~~loss=214.55384826660156,  y=tensor([0.]) ~~~~~~~~~~\n",
            "2 tensor([0.])\n",
            "~~~~~~~~loss=205.31539916992188,  y=tensor([0.]) ~~~~~~~~~~\n",
            "3 tensor([0.])\n",
            "~~~~~~~~loss=206.82908630371094,  y=tensor([0.]) ~~~~~~~~~~\n",
            "4 tensor([0.])\n",
            "~~~~~~~~loss=191.34280395507812,  y=tensor([0.]) ~~~~~~~~~~\n",
            "5 tensor([0.])\n",
            "~~~~~~~~loss=207.76483154296875,  y=tensor([0.]) ~~~~~~~~~~\n",
            "6 tensor([0.])\n",
            "~~~~~~~~loss=214.41957092285156,  y=tensor([0.]) ~~~~~~~~~~\n",
            "7 tensor([0.])\n",
            "~~~~~~~~loss=210.31764221191406,  y=tensor([0.]) ~~~~~~~~~~\n",
            "8 tensor([0.])\n",
            "~~~~~~~~loss=189.11282348632812,  y=tensor([0.]) ~~~~~~~~~~\n",
            "9 tensor([0.])\n",
            "~~~~~~~~loss=223.2049102783203,  y=tensor([0.]) ~~~~~~~~~~\n",
            "10 tensor([0.])\n",
            "~~~~~~~~loss=206.16665649414062,  y=tensor([0.]) ~~~~~~~~~~\n",
            "11 tensor([0.])\n",
            "~~~~~~~~loss=217.7639617919922,  y=tensor([0.]) ~~~~~~~~~~\n",
            "12 tensor([0.])\n",
            "~~~~~~~~loss=216.7871551513672,  y=tensor([0.]) ~~~~~~~~~~\n",
            "13 tensor([0.])\n",
            "~~~~~~~~loss=229.58216857910156,  y=tensor([0.]) ~~~~~~~~~~\n",
            "14 tensor([0.])\n",
            "~~~~~~~~loss=221.89266967773438,  y=tensor([0.]) ~~~~~~~~~~\n",
            "15 tensor([0.])\n",
            "~~~~~~~~loss=218.8828125,  y=tensor([0.]) ~~~~~~~~~~\n",
            "16 tensor([0.])\n",
            "~~~~~~~~loss=225.8374481201172,  y=tensor([0.]) ~~~~~~~~~~\n",
            "17 tensor([0.])\n",
            "~~~~~~~~loss=221.35069274902344,  y=tensor([0.]) ~~~~~~~~~~\n",
            "18 tensor([0.])\n",
            "~~~~~~~~loss=223.1330108642578,  y=tensor([0.]) ~~~~~~~~~~\n",
            "19 tensor([0.])\n",
            "~~~~~~~~loss=221.6387939453125,  y=tensor([0.]) ~~~~~~~~~~\n",
            "20 tensor([0.])\n",
            "~~~~~~~~loss=225.32571411132812,  y=tensor([0.]) ~~~~~~~~~~\n",
            "21 tensor([0.])\n",
            "~~~~~~~~loss=223.3373565673828,  y=tensor([0.]) ~~~~~~~~~~\n",
            "22 tensor([0.])\n",
            "~~~~~~~~loss=228.659423828125,  y=tensor([0.]) ~~~~~~~~~~\n",
            "23 tensor([0.])\n",
            "~~~~~~~~loss=227.2168731689453,  y=tensor([0.]) ~~~~~~~~~~\n",
            "24 tensor([0.])\n",
            "~~~~~~~~loss=227.1431427001953,  y=tensor([0.]) ~~~~~~~~~~\n",
            "25 tensor([0.])\n",
            "~~~~~~~~loss=229.77865600585938,  y=tensor([0.]) ~~~~~~~~~~\n",
            "26 tensor([0.])\n",
            "~~~~~~~~loss=232.33050537109375,  y=tensor([0.]) ~~~~~~~~~~\n",
            "27 tensor([0.])\n",
            "~~~~~~~~loss=235.14939880371094,  y=tensor([0.]) ~~~~~~~~~~\n",
            "28 tensor([0.])\n",
            "~~~~~~~~loss=245.0845184326172,  y=tensor([0.]) ~~~~~~~~~~\n",
            "29 tensor([0.])\n",
            "~~~~~~~~loss=235.48878479003906,  y=tensor([0.]) ~~~~~~~~~~\n",
            "30 tensor([0.])\n",
            "~~~~~~~~loss=235.36944580078125,  y=tensor([0.]) ~~~~~~~~~~\n",
            "31 tensor([0.])\n",
            "~~~~~~~~loss=237.84365844726562,  y=tensor([0.]) ~~~~~~~~~~\n",
            "32 tensor([0.])\n",
            "~~~~~~~~loss=236.1053009033203,  y=tensor([0.]) ~~~~~~~~~~\n",
            "33 tensor([0.])\n",
            "~~~~~~~~loss=239.43080139160156,  y=tensor([0.]) ~~~~~~~~~~\n",
            "34 tensor([0.])\n",
            "~~~~~~~~loss=243.4176788330078,  y=tensor([0.]) ~~~~~~~~~~\n",
            "35 tensor([0.])\n",
            "~~~~~~~~loss=223.12095642089844,  y=tensor([0.]) ~~~~~~~~~~\n",
            "36 tensor([0.])\n",
            "~~~~~~~~loss=223.19366455078125,  y=tensor([0.]) ~~~~~~~~~~\n",
            "37 tensor([0.])\n",
            "~~~~~~~~loss=222.17160034179688,  y=tensor([0.]) ~~~~~~~~~~\n",
            "38 tensor([0.])\n",
            "~~~~~~~~loss=226.10525512695312,  y=tensor([0.]) ~~~~~~~~~~\n",
            "39 tensor([0.])\n",
            "~~~~~~~~loss=224.97882080078125,  y=tensor([0.]) ~~~~~~~~~~\n",
            "40 tensor([0.])\n",
            "~~~~~~~~loss=219.11502075195312,  y=tensor([0.]) ~~~~~~~~~~\n",
            "41 tensor([0.])\n",
            "~~~~~~~~loss=227.0673828125,  y=tensor([0.]) ~~~~~~~~~~\n",
            "42 tensor([0.])\n",
            "~~~~~~~~loss=177.29611206054688,  y=tensor([0.]) ~~~~~~~~~~\n",
            "43 tensor([0.])\n",
            "~~~~~~~~loss=190.974609375,  y=tensor([0.]) ~~~~~~~~~~\n",
            "44 tensor([0.])\n",
            "~~~~~~~~loss=199.3473663330078,  y=tensor([0.]) ~~~~~~~~~~\n",
            "45 tensor([0.])\n",
            "~~~~~~~~loss=187.6909637451172,  y=tensor([0.]) ~~~~~~~~~~\n",
            "46 tensor([0.])\n",
            "~~~~~~~~loss=202.7405548095703,  y=tensor([0.]) ~~~~~~~~~~\n",
            "47 tensor([0.])\n",
            "~~~~~~~~loss=196.72755432128906,  y=tensor([0.]) ~~~~~~~~~~\n",
            "48 tensor([0.])\n",
            "~~~~~~~~loss=204.88815307617188,  y=tensor([0.]) ~~~~~~~~~~\n",
            "49 tensor([0.])\n",
            "~~~~~~~~loss=201.330810546875,  y=tensor([0.]) ~~~~~~~~~~\n",
            "50 tensor([0.])\n",
            "~~~~~~~~loss=205.46011352539062,  y=tensor([0.]) ~~~~~~~~~~\n",
            "51 tensor([0.])\n",
            "~~~~~~~~loss=205.07254028320312,  y=tensor([0.]) ~~~~~~~~~~\n",
            "52 tensor([0.])\n",
            "~~~~~~~~loss=203.82427978515625,  y=tensor([0.]) ~~~~~~~~~~\n",
            "53 tensor([0.])\n",
            "~~~~~~~~loss=206.38377380371094,  y=tensor([0.]) ~~~~~~~~~~\n",
            "54 tensor([0.])\n",
            "~~~~~~~~loss=207.6721649169922,  y=tensor([0.]) ~~~~~~~~~~\n",
            "55 tensor([0.])\n",
            "~~~~~~~~loss=212.06503295898438,  y=tensor([0.]) ~~~~~~~~~~\n",
            "56 tensor([0.])\n",
            "~~~~~~~~loss=209.57858276367188,  y=tensor([0.]) ~~~~~~~~~~\n",
            "57 tensor([0.])\n",
            "~~~~~~~~loss=210.95309448242188,  y=tensor([0.]) ~~~~~~~~~~\n",
            "58 tensor([0.])\n",
            "~~~~~~~~loss=208.60366821289062,  y=tensor([0.]) ~~~~~~~~~~\n",
            "59 tensor([0.])\n",
            "~~~~~~~~loss=213.26229858398438,  y=tensor([0.]) ~~~~~~~~~~\n",
            "60 tensor([0.])\n",
            "~~~~~~~~loss=217.81463623046875,  y=tensor([0.]) ~~~~~~~~~~\n",
            "61 tensor([0.])\n",
            "~~~~~~~~loss=214.02932739257812,  y=tensor([0.]) ~~~~~~~~~~\n",
            "62 tensor([0.])\n",
            "~~~~~~~~loss=214.0968017578125,  y=tensor([0.]) ~~~~~~~~~~\n",
            "63 tensor([0.])\n",
            "~~~~~~~~loss=214.22250366210938,  y=tensor([0.]) ~~~~~~~~~~\n",
            "64 tensor([0.])\n",
            "~~~~~~~~loss=214.0407257080078,  y=tensor([0.]) ~~~~~~~~~~\n",
            "65 tensor([0.])\n",
            "~~~~~~~~loss=219.66827392578125,  y=tensor([0.]) ~~~~~~~~~~\n",
            "66 tensor([0.])\n",
            "~~~~~~~~loss=215.99256896972656,  y=tensor([0.]) ~~~~~~~~~~\n",
            "67 tensor([0.])\n",
            "~~~~~~~~loss=219.44757080078125,  y=tensor([0.]) ~~~~~~~~~~\n",
            "68 tensor([0.])\n",
            "~~~~~~~~loss=225.00634765625,  y=tensor([0.]) ~~~~~~~~~~\n",
            "69 tensor([0.])\n",
            "~~~~~~~~loss=236.4517822265625,  y=tensor([0.]) ~~~~~~~~~~\n",
            "70 tensor([0.])\n",
            "~~~~~~~~loss=227.75677490234375,  y=tensor([0.]) ~~~~~~~~~~\n",
            "71 tensor([0.])\n",
            "~~~~~~~~loss=229.76014709472656,  y=tensor([0.]) ~~~~~~~~~~\n",
            "72 tensor([0.])\n",
            "~~~~~~~~loss=229.50906372070312,  y=tensor([0.]) ~~~~~~~~~~\n",
            "73 tensor([0.])\n",
            "~~~~~~~~loss=228.283203125,  y=tensor([0.]) ~~~~~~~~~~\n",
            "74 tensor([0.])\n",
            "~~~~~~~~loss=227.10287475585938,  y=tensor([0.]) ~~~~~~~~~~\n",
            "75 tensor([0.])\n",
            "~~~~~~~~loss=228.83309936523438,  y=tensor([0.]) ~~~~~~~~~~\n",
            "76 tensor([0.])\n",
            "~~~~~~~~loss=241.193115234375,  y=tensor([0.]) ~~~~~~~~~~\n",
            "77 tensor([0.])\n",
            "~~~~~~~~loss=226.33819580078125,  y=tensor([0.]) ~~~~~~~~~~\n",
            "78 tensor([0.])\n",
            "~~~~~~~~loss=220.91859436035156,  y=tensor([0.]) ~~~~~~~~~~\n",
            "79 tensor([0.])\n",
            "~~~~~~~~loss=224.51173400878906,  y=tensor([0.]) ~~~~~~~~~~\n",
            "80 tensor([0.])\n",
            "~~~~~~~~loss=241.04254150390625,  y=tensor([0.]) ~~~~~~~~~~\n",
            "81 tensor([0.])\n",
            "~~~~~~~~loss=220.65077209472656,  y=tensor([0.]) ~~~~~~~~~~\n",
            "82 tensor([0.])\n",
            "~~~~~~~~loss=232.6248321533203,  y=tensor([0.]) ~~~~~~~~~~\n",
            "83 tensor([0.])\n",
            "~~~~~~~~loss=223.68167114257812,  y=tensor([0.]) ~~~~~~~~~~\n",
            "84 tensor([0.])\n",
            "~~~~~~~~loss=226.71218872070312,  y=tensor([0.]) ~~~~~~~~~~\n",
            "85 tensor([0.])\n",
            "~~~~~~~~loss=236.11126708984375,  y=tensor([0.]) ~~~~~~~~~~\n",
            "86 tensor([0.])\n",
            "~~~~~~~~loss=228.83609008789062,  y=tensor([0.]) ~~~~~~~~~~\n",
            "87 tensor([0.])\n",
            "~~~~~~~~loss=222.76251220703125,  y=tensor([0.]) ~~~~~~~~~~\n",
            "88 tensor([0.])\n",
            "~~~~~~~~loss=218.95181274414062,  y=tensor([0.]) ~~~~~~~~~~\n",
            "89 tensor([0.])\n",
            "~~~~~~~~loss=217.7642822265625,  y=tensor([0.]) ~~~~~~~~~~\n",
            "90 tensor([0.])\n",
            "~~~~~~~~loss=217.10792541503906,  y=tensor([0.]) ~~~~~~~~~~\n",
            "91 tensor([0.])\n",
            "~~~~~~~~loss=203.77401733398438,  y=tensor([0.]) ~~~~~~~~~~\n",
            "92 tensor([0.])\n",
            "~~~~~~~~loss=217.853515625,  y=tensor([0.]) ~~~~~~~~~~\n",
            "93 tensor([0.])\n",
            "~~~~~~~~loss=234.63046264648438,  y=tensor([0.]) ~~~~~~~~~~\n",
            "94 tensor([0.])\n",
            "~~~~~~~~loss=219.064453125,  y=tensor([0.]) ~~~~~~~~~~\n",
            "95 tensor([0.])\n",
            "~~~~~~~~loss=205.6329803466797,  y=tensor([0.]) ~~~~~~~~~~\n",
            "96 tensor([0.])\n",
            "~~~~~~~~loss=202.7523193359375,  y=tensor([0.]) ~~~~~~~~~~\n",
            "97 tensor([0.])\n",
            "~~~~~~~~loss=209.30458068847656,  y=tensor([0.]) ~~~~~~~~~~\n",
            "98 tensor([0.])\n",
            "~~~~~~~~loss=209.18751525878906,  y=tensor([0.]) ~~~~~~~~~~\n",
            "99 tensor([0.])\n",
            "~~~~~~~~loss=219.94790649414062,  y=tensor([0.]) ~~~~~~~~~~\n",
            "100 tensor([0.])\n",
            "~~~~~~~~loss=196.06402587890625,  y=tensor([0.]) ~~~~~~~~~~\n",
            "101 tensor([0.])\n",
            "~~~~~~~~loss=202.2418670654297,  y=tensor([0.]) ~~~~~~~~~~\n",
            "102 tensor([0.])\n",
            "~~~~~~~~loss=206.68777465820312,  y=tensor([0.]) ~~~~~~~~~~\n",
            "103 tensor([0.])\n",
            "~~~~~~~~loss=209.41748046875,  y=tensor([0.]) ~~~~~~~~~~\n",
            "104 tensor([0.])\n",
            "~~~~~~~~loss=204.37680053710938,  y=tensor([0.]) ~~~~~~~~~~\n",
            "105 tensor([0.])\n",
            "~~~~~~~~loss=210.88998413085938,  y=tensor([0.]) ~~~~~~~~~~\n",
            "106 tensor([0.])\n",
            "~~~~~~~~loss=203.63621520996094,  y=tensor([0.]) ~~~~~~~~~~\n",
            "107 tensor([0.])\n",
            "~~~~~~~~loss=209.3022918701172,  y=tensor([0.]) ~~~~~~~~~~\n",
            "108 tensor([0.])\n",
            "~~~~~~~~loss=203.7565155029297,  y=tensor([0.]) ~~~~~~~~~~\n",
            "109 tensor([0.])\n",
            "~~~~~~~~loss=212.4886474609375,  y=tensor([0.]) ~~~~~~~~~~\n",
            "110 tensor([0.])\n",
            "~~~~~~~~loss=222.98509216308594,  y=tensor([0.]) ~~~~~~~~~~\n",
            "111 tensor([0.])\n",
            "~~~~~~~~loss=211.02999877929688,  y=tensor([0.]) ~~~~~~~~~~\n",
            "112 tensor([0.])\n",
            "~~~~~~~~loss=208.5459747314453,  y=tensor([0.]) ~~~~~~~~~~\n",
            "113 tensor([0.])\n",
            "~~~~~~~~loss=244.15756225585938,  y=tensor([0.]) ~~~~~~~~~~\n",
            "114 tensor([0.])\n",
            "~~~~~~~~loss=219.7122802734375,  y=tensor([0.]) ~~~~~~~~~~\n",
            "115 tensor([0.])\n",
            "~~~~~~~~loss=232.0894317626953,  y=tensor([0.]) ~~~~~~~~~~\n",
            "116 tensor([0.])\n",
            "~~~~~~~~loss=214.84986877441406,  y=tensor([0.]) ~~~~~~~~~~\n",
            "117 tensor([0.])\n",
            "~~~~~~~~loss=220.81243896484375,  y=tensor([0.]) ~~~~~~~~~~\n",
            "118 tensor([0.])\n",
            "~~~~~~~~loss=217.32183837890625,  y=tensor([0.]) ~~~~~~~~~~\n",
            "119 tensor([0.])\n",
            "~~~~~~~~loss=220.23324584960938,  y=tensor([0.]) ~~~~~~~~~~\n",
            "120 tensor([0.])\n",
            "~~~~~~~~loss=222.2068328857422,  y=tensor([0.]) ~~~~~~~~~~\n",
            "121 tensor([0.])\n",
            "~~~~~~~~loss=223.90545654296875,  y=tensor([0.]) ~~~~~~~~~~\n",
            "122 tensor([0.])\n",
            "~~~~~~~~loss=226.603271484375,  y=tensor([0.]) ~~~~~~~~~~\n",
            "123 tensor([0.])\n",
            "~~~~~~~~loss=226.30520629882812,  y=tensor([0.]) ~~~~~~~~~~\n",
            "124 tensor([0.])\n",
            "~~~~~~~~loss=227.86798095703125,  y=tensor([0.]) ~~~~~~~~~~\n",
            "125 tensor([0.])\n",
            "~~~~~~~~loss=225.74998474121094,  y=tensor([0.]) ~~~~~~~~~~\n",
            "126 tensor([0.])\n",
            "~~~~~~~~loss=234.6135711669922,  y=tensor([0.]) ~~~~~~~~~~\n",
            "127 tensor([0.])\n",
            "~~~~~~~~loss=247.23243713378906,  y=tensor([0.]) ~~~~~~~~~~\n",
            "128 tensor([0.])\n",
            "~~~~~~~~loss=238.4741668701172,  y=tensor([0.]) ~~~~~~~~~~\n",
            "129 tensor([0.])\n",
            "~~~~~~~~loss=237.91151428222656,  y=tensor([0.]) ~~~~~~~~~~\n",
            "130 tensor([0.])\n",
            "~~~~~~~~loss=232.0761260986328,  y=tensor([0.]) ~~~~~~~~~~\n",
            "131 tensor([0.])\n",
            "~~~~~~~~loss=242.40155029296875,  y=tensor([0.]) ~~~~~~~~~~\n",
            "132 tensor([0.])\n",
            "~~~~~~~~loss=231.55067443847656,  y=tensor([0.]) ~~~~~~~~~~\n",
            "133 tensor([0.])\n",
            "~~~~~~~~loss=259.0204772949219,  y=tensor([0.]) ~~~~~~~~~~\n",
            "134 tensor([0.])\n",
            "~~~~~~~~loss=220.510498046875,  y=tensor([0.]) ~~~~~~~~~~\n",
            "135 tensor([0.])\n",
            "~~~~~~~~loss=221.94854736328125,  y=tensor([0.]) ~~~~~~~~~~\n",
            "136 tensor([0.])\n",
            "~~~~~~~~loss=239.03775024414062,  y=tensor([0.]) ~~~~~~~~~~\n",
            "137 tensor([0.])\n",
            "~~~~~~~~loss=209.32080078125,  y=tensor([0.]) ~~~~~~~~~~\n",
            "138 tensor([0.])\n",
            "~~~~~~~~loss=218.09042358398438,  y=tensor([0.]) ~~~~~~~~~~\n",
            "139 tensor([0.])\n",
            "~~~~~~~~loss=198.7021484375,  y=tensor([0.]) ~~~~~~~~~~\n",
            "140 tensor([0.])\n",
            "~~~~~~~~loss=202.54376220703125,  y=tensor([0.]) ~~~~~~~~~~\n",
            "141 tensor([0.])\n",
            "~~~~~~~~loss=204.23284912109375,  y=tensor([0.]) ~~~~~~~~~~\n",
            "142 tensor([0.])\n",
            "~~~~~~~~loss=205.78927612304688,  y=tensor([0.]) ~~~~~~~~~~\n",
            "143 tensor([0.])\n",
            "~~~~~~~~loss=161.8523712158203,  y=tensor([0.]) ~~~~~~~~~~\n",
            "144 tensor([0.])\n",
            "~~~~~~~~loss=208.7474822998047,  y=tensor([0.]) ~~~~~~~~~~\n",
            "145 tensor([0.])\n",
            "~~~~~~~~loss=187.21917724609375,  y=tensor([0.]) ~~~~~~~~~~\n",
            "146 tensor([0.])\n",
            "~~~~~~~~loss=193.9046173095703,  y=tensor([0.]) ~~~~~~~~~~\n",
            "147 tensor([0.])\n",
            "~~~~~~~~loss=172.72959899902344,  y=tensor([0.]) ~~~~~~~~~~\n",
            "148 tensor([0.])\n",
            "~~~~~~~~loss=194.87826538085938,  y=tensor([0.]) ~~~~~~~~~~\n",
            "149 tensor([0.])\n",
            "~~~~~~~~loss=211.8321533203125,  y=tensor([0.]) ~~~~~~~~~~\n",
            "150 tensor([0.])\n",
            "~~~~~~~~loss=179.68817138671875,  y=tensor([0.]) ~~~~~~~~~~\n",
            "151 tensor([0.])\n",
            "~~~~~~~~loss=176.37161254882812,  y=tensor([0.]) ~~~~~~~~~~\n",
            "152 tensor([0.])\n",
            "~~~~~~~~loss=195.82225036621094,  y=tensor([0.]) ~~~~~~~~~~\n",
            "153 tensor([0.])\n",
            "~~~~~~~~loss=209.1221466064453,  y=tensor([0.]) ~~~~~~~~~~\n",
            "154 tensor([0.])\n",
            "~~~~~~~~loss=196.9864501953125,  y=tensor([0.]) ~~~~~~~~~~\n",
            "155 tensor([0.])\n",
            "~~~~~~~~loss=210.2425537109375,  y=tensor([0.]) ~~~~~~~~~~\n",
            "156 tensor([0.])\n",
            "~~~~~~~~loss=212.49893188476562,  y=tensor([0.]) ~~~~~~~~~~\n",
            "157 tensor([0.])\n",
            "~~~~~~~~loss=207.52003479003906,  y=tensor([0.]) ~~~~~~~~~~\n",
            "158 tensor([0.])\n",
            "~~~~~~~~loss=220.7014923095703,  y=tensor([0.]) ~~~~~~~~~~\n",
            "159 tensor([0.])\n",
            "~~~~~~~~loss=209.8389434814453,  y=tensor([0.]) ~~~~~~~~~~\n",
            "160 tensor([0.])\n",
            "~~~~~~~~loss=221.1731414794922,  y=tensor([0.]) ~~~~~~~~~~\n",
            "161 tensor([0.])\n",
            "~~~~~~~~loss=215.36761474609375,  y=tensor([0.]) ~~~~~~~~~~\n",
            "162 tensor([0.])\n",
            "~~~~~~~~loss=228.55892944335938,  y=tensor([0.]) ~~~~~~~~~~\n",
            "163 tensor([0.])\n",
            "~~~~~~~~loss=226.77227783203125,  y=tensor([0.]) ~~~~~~~~~~\n",
            "164 tensor([0.])\n",
            "~~~~~~~~loss=215.7041778564453,  y=tensor([0.]) ~~~~~~~~~~\n",
            "165 tensor([0.])\n",
            "~~~~~~~~loss=219.4331512451172,  y=tensor([0.]) ~~~~~~~~~~\n",
            "166 tensor([0.])\n",
            "~~~~~~~~loss=218.04400634765625,  y=tensor([0.]) ~~~~~~~~~~\n",
            "167 tensor([0.])\n",
            "~~~~~~~~loss=215.66725158691406,  y=tensor([0.]) ~~~~~~~~~~\n",
            "168 tensor([0.])\n",
            "~~~~~~~~loss=237.43215942382812,  y=tensor([0.]) ~~~~~~~~~~\n",
            "169 tensor([0.])\n",
            "~~~~~~~~loss=223.33737182617188,  y=tensor([0.]) ~~~~~~~~~~\n",
            "170 tensor([0.])\n",
            "~~~~~~~~loss=221.90081787109375,  y=tensor([0.]) ~~~~~~~~~~\n",
            "171 tensor([0.])\n",
            "~~~~~~~~loss=222.49319458007812,  y=tensor([0.]) ~~~~~~~~~~\n",
            "172 tensor([0.])\n",
            "~~~~~~~~loss=238.45330810546875,  y=tensor([0.]) ~~~~~~~~~~\n",
            "173 tensor([0.])\n",
            "~~~~~~~~loss=241.49293518066406,  y=tensor([0.]) ~~~~~~~~~~\n",
            "174 tensor([0.])\n",
            "~~~~~~~~loss=223.61114501953125,  y=tensor([0.]) ~~~~~~~~~~\n",
            "175 tensor([0.])\n",
            "~~~~~~~~loss=226.4373321533203,  y=tensor([0.]) ~~~~~~~~~~\n",
            "176 tensor([0.])\n",
            "~~~~~~~~loss=238.11183166503906,  y=tensor([0.]) ~~~~~~~~~~\n",
            "177 tensor([0.])\n",
            "~~~~~~~~loss=231.22213745117188,  y=tensor([0.]) ~~~~~~~~~~\n",
            "178 tensor([0.])\n",
            "~~~~~~~~loss=209.18959045410156,  y=tensor([0.]) ~~~~~~~~~~\n",
            "179 tensor([0.])\n",
            "~~~~~~~~loss=226.7461395263672,  y=tensor([0.]) ~~~~~~~~~~\n",
            "180 tensor([0.])\n",
            "~~~~~~~~loss=234.8044891357422,  y=tensor([0.]) ~~~~~~~~~~\n",
            "181 tensor([0.])\n",
            "~~~~~~~~loss=262.13232421875,  y=tensor([0.]) ~~~~~~~~~~\n",
            "182 tensor([0.])\n",
            "~~~~~~~~loss=238.97561645507812,  y=tensor([0.]) ~~~~~~~~~~\n",
            "183 tensor([0.])\n",
            "~~~~~~~~loss=238.9949951171875,  y=tensor([0.]) ~~~~~~~~~~\n",
            "184 tensor([0.])\n",
            "~~~~~~~~loss=230.45223999023438,  y=tensor([0.]) ~~~~~~~~~~\n",
            "185 tensor([0.])\n",
            "~~~~~~~~loss=256.0768127441406,  y=tensor([0.]) ~~~~~~~~~~\n",
            "186 tensor([0.])\n",
            "~~~~~~~~loss=235.33396911621094,  y=tensor([0.]) ~~~~~~~~~~\n",
            "187 tensor([0.])\n",
            "~~~~~~~~loss=250.59957885742188,  y=tensor([0.]) ~~~~~~~~~~\n",
            "188 tensor([0.])\n",
            "~~~~~~~~loss=234.120849609375,  y=tensor([0.]) ~~~~~~~~~~\n",
            "189 tensor([0.])\n",
            "~~~~~~~~loss=240.9805908203125,  y=tensor([0.]) ~~~~~~~~~~\n",
            "190 tensor([0.])\n",
            "~~~~~~~~loss=222.17791748046875,  y=tensor([0.]) ~~~~~~~~~~\n",
            "191 tensor([0.])\n",
            "~~~~~~~~loss=231.39927673339844,  y=tensor([0.]) ~~~~~~~~~~\n",
            "192 tensor([0.])\n",
            "~~~~~~~~loss=218.79345703125,  y=tensor([0.]) ~~~~~~~~~~\n",
            "193 tensor([0.])\n",
            "~~~~~~~~loss=226.85763549804688,  y=tensor([0.]) ~~~~~~~~~~\n",
            "194 tensor([0.])\n",
            "~~~~~~~~loss=209.2454376220703,  y=tensor([0.]) ~~~~~~~~~~\n",
            "195 tensor([0.])\n",
            "~~~~~~~~loss=206.93063354492188,  y=tensor([0.]) ~~~~~~~~~~\n",
            "196 tensor([0.])\n",
            "~~~~~~~~loss=221.81764221191406,  y=tensor([0.]) ~~~~~~~~~~\n",
            "197 tensor([0.])\n",
            "~~~~~~~~loss=219.84466552734375,  y=tensor([0.]) ~~~~~~~~~~\n",
            "198 tensor([0.])\n",
            "~~~~~~~~loss=195.30648803710938,  y=tensor([0.]) ~~~~~~~~~~\n",
            "199 tensor([0.])\n",
            "~~~~~~~~loss=223.97268676757812,  y=tensor([0.]) ~~~~~~~~~~\n",
            "200 tensor([0.])\n",
            "~~~~~~~~loss=229.29415893554688,  y=tensor([0.]) ~~~~~~~~~~\n",
            "201 tensor([0.])\n",
            "~~~~~~~~loss=192.7967987060547,  y=tensor([0.]) ~~~~~~~~~~\n",
            "202 tensor([0.])\n",
            "~~~~~~~~loss=195.30343627929688,  y=tensor([0.]) ~~~~~~~~~~\n",
            "203 tensor([0.])\n",
            "~~~~~~~~loss=223.48806762695312,  y=tensor([0.]) ~~~~~~~~~~\n",
            "204 tensor([0.])\n",
            "~~~~~~~~loss=206.45953369140625,  y=tensor([0.]) ~~~~~~~~~~\n",
            "205 tensor([0.])\n",
            "~~~~~~~~loss=193.72463989257812,  y=tensor([0.]) ~~~~~~~~~~\n",
            "206 tensor([0.])\n",
            "~~~~~~~~loss=219.35940551757812,  y=tensor([0.]) ~~~~~~~~~~\n",
            "207 tensor([0.])\n",
            "~~~~~~~~loss=219.75192260742188,  y=tensor([0.]) ~~~~~~~~~~\n",
            "208 tensor([0.])\n",
            "~~~~~~~~loss=200.65577697753906,  y=tensor([0.]) ~~~~~~~~~~\n",
            "209 tensor([0.])\n",
            "~~~~~~~~loss=209.18734741210938,  y=tensor([0.]) ~~~~~~~~~~\n",
            "210 tensor([0.])\n",
            "~~~~~~~~loss=217.86587524414062,  y=tensor([0.]) ~~~~~~~~~~\n",
            "211 tensor([0.])\n",
            "~~~~~~~~loss=189.58795166015625,  y=tensor([0.]) ~~~~~~~~~~\n",
            "212 tensor([0.])\n",
            "~~~~~~~~loss=211.92994689941406,  y=tensor([0.]) ~~~~~~~~~~\n",
            "213 tensor([0.])\n",
            "~~~~~~~~loss=230.84774780273438,  y=tensor([0.]) ~~~~~~~~~~\n",
            "214 tensor([0.])\n",
            "~~~~~~~~loss=197.8068084716797,  y=tensor([0.]) ~~~~~~~~~~\n",
            "215 tensor([0.])\n",
            "~~~~~~~~loss=194.26715087890625,  y=tensor([0.]) ~~~~~~~~~~\n",
            "216 tensor([0.])\n",
            "~~~~~~~~loss=228.9302978515625,  y=tensor([0.]) ~~~~~~~~~~\n",
            "217 tensor([0.])\n",
            "~~~~~~~~loss=237.5941619873047,  y=tensor([0.]) ~~~~~~~~~~\n",
            "218 tensor([0.])\n",
            "~~~~~~~~loss=243.84588623046875,  y=tensor([0.]) ~~~~~~~~~~\n",
            "219 tensor([0.])\n",
            "~~~~~~~~loss=201.11972045898438,  y=tensor([0.]) ~~~~~~~~~~\n",
            "220 tensor([0.])\n",
            "~~~~~~~~loss=215.3585968017578,  y=tensor([0.]) ~~~~~~~~~~\n",
            "221 tensor([0.])\n",
            "~~~~~~~~loss=229.6844940185547,  y=tensor([0.]) ~~~~~~~~~~\n",
            "222 tensor([0.])\n",
            "~~~~~~~~loss=204.51214599609375,  y=tensor([0.]) ~~~~~~~~~~\n",
            "223 tensor([0.])\n",
            "~~~~~~~~loss=204.64712524414062,  y=tensor([0.]) ~~~~~~~~~~\n",
            "224 tensor([0.])\n",
            "~~~~~~~~loss=227.39297485351562,  y=tensor([0.]) ~~~~~~~~~~\n",
            "225 tensor([0.])\n",
            "~~~~~~~~loss=229.2414093017578,  y=tensor([0.]) ~~~~~~~~~~\n",
            "226 tensor([0.])\n",
            "~~~~~~~~loss=200.0244140625,  y=tensor([0.]) ~~~~~~~~~~\n",
            "227 tensor([0.])\n",
            "~~~~~~~~loss=204.10806274414062,  y=tensor([0.]) ~~~~~~~~~~\n",
            "228 tensor([0.])\n",
            "~~~~~~~~loss=233.5421600341797,  y=tensor([0.]) ~~~~~~~~~~\n",
            "229 tensor([0.])\n",
            "~~~~~~~~loss=209.47647094726562,  y=tensor([0.]) ~~~~~~~~~~\n",
            "230 tensor([0.])\n",
            "~~~~~~~~loss=236.67889404296875,  y=tensor([0.]) ~~~~~~~~~~\n",
            "231 tensor([0.])\n",
            "~~~~~~~~loss=240.26681518554688,  y=tensor([0.]) ~~~~~~~~~~\n",
            "232 tensor([0.])\n",
            "~~~~~~~~loss=209.17794799804688,  y=tensor([0.]) ~~~~~~~~~~\n",
            "233 tensor([0.])\n",
            "~~~~~~~~loss=262.2805480957031,  y=tensor([0.]) ~~~~~~~~~~\n",
            "234 tensor([0.])\n",
            "~~~~~~~~loss=212.41342163085938,  y=tensor([0.]) ~~~~~~~~~~\n",
            "235 tensor([0.])\n",
            "~~~~~~~~loss=200.01828002929688,  y=tensor([0.]) ~~~~~~~~~~\n",
            "236 tensor([0.])\n",
            "~~~~~~~~loss=180.9456329345703,  y=tensor([0.]) ~~~~~~~~~~\n",
            "237 tensor([0.])\n",
            "~~~~~~~~loss=212.88140869140625,  y=tensor([0.]) ~~~~~~~~~~\n",
            "238 tensor([0.])\n",
            "~~~~~~~~loss=175.50259399414062,  y=tensor([0.]) ~~~~~~~~~~\n",
            "239 tensor([0.])\n",
            "~~~~~~~~loss=175.98406982421875,  y=tensor([0.]) ~~~~~~~~~~\n",
            "240 tensor([0.])\n",
            "~~~~~~~~loss=236.87091064453125,  y=tensor([0.]) ~~~~~~~~~~\n",
            "241 tensor([0.])\n",
            "~~~~~~~~loss=239.29498291015625,  y=tensor([0.]) ~~~~~~~~~~\n",
            "242 tensor([0.])\n",
            "~~~~~~~~loss=178.46807861328125,  y=tensor([0.]) ~~~~~~~~~~\n",
            "243 tensor([0.])\n",
            "~~~~~~~~loss=215.4510040283203,  y=tensor([0.]) ~~~~~~~~~~\n",
            "244 tensor([0.])\n",
            "~~~~~~~~loss=187.6043701171875,  y=tensor([0.]) ~~~~~~~~~~\n",
            "245 tensor([0.])\n",
            "~~~~~~~~loss=223.86367797851562,  y=tensor([0.]) ~~~~~~~~~~\n",
            "246 tensor([0.])\n",
            "~~~~~~~~loss=191.30874633789062,  y=tensor([0.]) ~~~~~~~~~~\n",
            "247 tensor([0.])\n",
            "~~~~~~~~loss=190.65054321289062,  y=tensor([0.]) ~~~~~~~~~~\n",
            "248 tensor([0.])\n",
            "~~~~~~~~loss=204.60787963867188,  y=tensor([0.]) ~~~~~~~~~~\n",
            "249 tensor([0.])\n",
            "~~~~~~~~loss=205.26486206054688,  y=tensor([0.]) ~~~~~~~~~~\n",
            "250 tensor([0.])\n",
            "~~~~~~~~loss=192.94577026367188,  y=tensor([0.]) ~~~~~~~~~~\n",
            "251 tensor([0.])\n",
            "~~~~~~~~loss=209.41229248046875,  y=tensor([0.]) ~~~~~~~~~~\n",
            "252 tensor([0.])\n",
            "~~~~~~~~loss=207.94927978515625,  y=tensor([0.]) ~~~~~~~~~~\n",
            "253 tensor([0.])\n",
            "~~~~~~~~loss=192.5001983642578,  y=tensor([0.]) ~~~~~~~~~~\n",
            "254 tensor([0.])\n",
            "~~~~~~~~loss=194.1999053955078,  y=tensor([0.]) ~~~~~~~~~~\n",
            "255 tensor([0.])\n",
            "~~~~~~~~loss=199.7375946044922,  y=tensor([0.]) ~~~~~~~~~~\n",
            "256 tensor([0.])\n",
            "~~~~~~~~loss=196.6720733642578,  y=tensor([0.]) ~~~~~~~~~~\n",
            "257 tensor([0.])\n",
            "~~~~~~~~loss=192.16741943359375,  y=tensor([0.]) ~~~~~~~~~~\n",
            "258 tensor([0.])\n",
            "~~~~~~~~loss=203.88803100585938,  y=tensor([0.]) ~~~~~~~~~~\n",
            "259 tensor([0.])\n",
            "~~~~~~~~loss=219.45802307128906,  y=tensor([0.]) ~~~~~~~~~~\n",
            "260 tensor([0.])\n",
            "~~~~~~~~loss=187.55252075195312,  y=tensor([0.]) ~~~~~~~~~~\n",
            "261 tensor([0.])\n",
            "~~~~~~~~loss=218.27072143554688,  y=tensor([0.]) ~~~~~~~~~~\n",
            "262 tensor([0.])\n",
            "~~~~~~~~loss=225.7276611328125,  y=tensor([0.]) ~~~~~~~~~~\n",
            "263 tensor([0.])\n",
            "~~~~~~~~loss=217.9221954345703,  y=tensor([0.]) ~~~~~~~~~~\n",
            "264 tensor([0.])\n",
            "~~~~~~~~loss=199.2804718017578,  y=tensor([0.]) ~~~~~~~~~~\n",
            "265 tensor([0.])\n",
            "~~~~~~~~loss=202.46661376953125,  y=tensor([0.]) ~~~~~~~~~~\n",
            "266 tensor([0.])\n",
            "~~~~~~~~loss=215.65792846679688,  y=tensor([0.]) ~~~~~~~~~~\n",
            "267 tensor([0.])\n",
            "~~~~~~~~loss=240.69337463378906,  y=tensor([0.]) ~~~~~~~~~~\n",
            "268 tensor([0.])\n",
            "~~~~~~~~loss=213.96536254882812,  y=tensor([0.]) ~~~~~~~~~~\n",
            "269 tensor([0.])\n",
            "~~~~~~~~loss=199.99130249023438,  y=tensor([0.]) ~~~~~~~~~~\n",
            "270 tensor([0.])\n",
            "~~~~~~~~loss=207.8341827392578,  y=tensor([0.]) ~~~~~~~~~~\n",
            "271 tensor([0.])\n",
            "~~~~~~~~loss=194.3472900390625,  y=tensor([0.]) ~~~~~~~~~~\n",
            "272 tensor([0.])\n",
            "~~~~~~~~loss=209.53395080566406,  y=tensor([0.]) ~~~~~~~~~~\n",
            "273 tensor([0.])\n",
            "~~~~~~~~loss=194.292724609375,  y=tensor([0.]) ~~~~~~~~~~\n",
            "274 tensor([0.])\n",
            "~~~~~~~~loss=195.63421630859375,  y=tensor([0.]) ~~~~~~~~~~\n",
            "275 tensor([1.])\n",
            "~~~~~~~~loss=195.43734741210938,  y=tensor([1.]) ~~~~~~~~~~\n",
            "276 tensor([1.])\n",
            "~~~~~~~~loss=196.8250732421875,  y=tensor([1.]) ~~~~~~~~~~\n",
            "277 tensor([1.])\n",
            "~~~~~~~~loss=210.39556884765625,  y=tensor([1.]) ~~~~~~~~~~\n",
            "278 tensor([1.])\n",
            "~~~~~~~~loss=201.15341186523438,  y=tensor([1.]) ~~~~~~~~~~\n",
            "279 tensor([1.])\n",
            "~~~~~~~~loss=188.286865234375,  y=tensor([1.]) ~~~~~~~~~~\n",
            "280 tensor([1.])\n",
            "~~~~~~~~loss=209.19729614257812,  y=tensor([1.]) ~~~~~~~~~~\n",
            "281 tensor([1.])\n",
            "~~~~~~~~loss=185.72055053710938,  y=tensor([1.]) ~~~~~~~~~~\n",
            "282 tensor([1.])\n",
            "~~~~~~~~loss=224.80844116210938,  y=tensor([1.]) ~~~~~~~~~~\n",
            "283 tensor([1.])\n",
            "~~~~~~~~loss=269.2846374511719,  y=tensor([1.]) ~~~~~~~~~~\n",
            "284 tensor([1.])\n",
            "~~~~~~~~loss=268.90020751953125,  y=tensor([1.]) ~~~~~~~~~~\n",
            "285 tensor([1.])\n",
            "~~~~~~~~loss=259.78057861328125,  y=tensor([1.]) ~~~~~~~~~~\n",
            "286 tensor([1.])\n",
            "~~~~~~~~loss=269.28240966796875,  y=tensor([1.]) ~~~~~~~~~~\n",
            "287 tensor([1.])\n",
            "~~~~~~~~loss=271.99871826171875,  y=tensor([1.]) ~~~~~~~~~~\n",
            "288 tensor([1.])\n",
            "~~~~~~~~loss=264.74041748046875,  y=tensor([1.]) ~~~~~~~~~~\n",
            "289 tensor([1.])\n",
            "~~~~~~~~loss=239.9331817626953,  y=tensor([1.]) ~~~~~~~~~~\n",
            "290 tensor([1.])\n",
            "~~~~~~~~loss=257.5036315917969,  y=tensor([1.]) ~~~~~~~~~~\n",
            "291 tensor([1.])\n",
            "~~~~~~~~loss=265.4366760253906,  y=tensor([1.]) ~~~~~~~~~~\n",
            "292 tensor([1.])\n",
            "~~~~~~~~loss=266.04437255859375,  y=tensor([1.]) ~~~~~~~~~~\n",
            "293 tensor([1.])\n",
            "~~~~~~~~loss=256.2291259765625,  y=tensor([1.]) ~~~~~~~~~~\n",
            "294 tensor([1.])\n",
            "~~~~~~~~loss=272.8282165527344,  y=tensor([1.]) ~~~~~~~~~~\n",
            "295 tensor([1.])\n",
            "~~~~~~~~loss=270.343017578125,  y=tensor([1.]) ~~~~~~~~~~\n",
            "296 tensor([1.])\n",
            "~~~~~~~~loss=255.35812377929688,  y=tensor([1.]) ~~~~~~~~~~\n",
            "297 tensor([1.])\n",
            "~~~~~~~~loss=574.3200073242188,  y=tensor([1.]) ~~~~~~~~~~\n",
            "298 tensor([1.])\n",
            "~~~~~~~~loss=573.601318359375,  y=tensor([1.]) ~~~~~~~~~~\n",
            "299 tensor([1.])\n",
            "~~~~~~~~loss=576.08349609375,  y=tensor([1.]) ~~~~~~~~~~\n"
          ]
        }
      ]
    },
    {
      "cell_type": "code",
      "metadata": {
        "id": "NwQcZqtJsbK0",
        "outputId": "a31883ec-e563-497f-ba09-46867631dd16",
        "colab": {
          "base_uri": "https://localhost:8080/"
        }
      },
      "source": [
        "len(loss_list)"
      ],
      "execution_count": null,
      "outputs": [
        {
          "output_type": "execute_result",
          "data": {
            "text/plain": [
              "300"
            ]
          },
          "metadata": {},
          "execution_count": 31
        }
      ]
    },
    {
      "cell_type": "markdown",
      "metadata": {
        "id": "lc94njMxZ62A"
      },
      "source": [
        "# Visualise Anomaly Detection"
      ]
    },
    {
      "cell_type": "code",
      "metadata": {
        "id": "hIFy5FVZrGKJ",
        "outputId": "05735a23-5514-44f4-f494-e3ec759807ab",
        "colab": {
          "base_uri": "https://localhost:8080/",
          "height": 459
        }
      },
      "source": [
        "THRESHOLD = 7.65 # Anomaly score threshold for an instance to be considered as anomaly\n",
        "\n",
        "#TIME_STEPS = dataset.window_length\n",
        "test_score_df = pd.DataFrame(index=range(len(test_dataloader)))\n",
        "test_score_df['loss'] = [loss.item()/window_length for loss in loss_list]\n",
        "test_score_df['y'] = dataset_test.y\n",
        "test_score_df['threshold'] = THRESHOLD\n",
        "test_score_df['anomaly'] = test_score_df.loss > test_score_df.threshold\n",
        "test_score_df['t'] = [x[59].item() for x in dataset_test.x]\n",
        "\n",
        "plt.plot(test_score_df.index, test_score_df.loss, label='loss')\n",
        "plt.plot(test_score_df.index, test_score_df.threshold, label='threshold')\n",
        "plt.plot(test_score_df.index, test_score_df.y, label='y')\n",
        "plt.xticks(rotation=25)\n",
        "plt.legend()"
      ],
      "execution_count": null,
      "outputs": [
        {
          "output_type": "execute_result",
          "data": {
            "text/plain": [
              "<matplotlib.legend.Legend at 0x7f377f2eb250>"
            ]
          },
          "metadata": {},
          "execution_count": 33
        },
        {
          "output_type": "display_data",
          "data": {
            "text/plain": [
              "<Figure size 640x480 with 1 Axes>"
            ],
            "image/png": "[encoded data removed]"
          },
          "metadata": {}
        }
      ]
    },
    {
      "source": [
        "anomalies = test_score_df[test_score_df.anomaly == True]\n",
        "\n",
        "plt.plot(\n",
        "  range(300),\n",
        "  test_score_df['t'],\n",
        "  label='value'\n",
        ");\n",
        "\n",
        "# Specify 'x' and 'y' as keyword arguments\n",
        "sns.scatterplot(\n",
        "  x=anomalies.index,\n",
        "  y=anomalies.t,\n",
        "  color=sns.color_palette()[3],\n",
        "  s=52,\n",
        "  label='anomaly'\n",
        ")\n",
        "\n",
        "plt.plot(\n",
        "  range(len(test_score_df['y'])),\n",
        "  test_score_df['y'],\n",
        "  label='y'\n",
        ")\n",
        "\n",
        "plt.xticks(rotation=25)\n",
        "plt.legend()"
      ],
      "cell_type": "code",
      "metadata": {
        "id": "6FTdud7ZwPeQ",
        "outputId": "643ccc44-fe36-44a5-aacd-385c0bd3cd11",
        "colab": {
          "base_uri": "https://localhost:8080/",
          "height": 476
        }
      },
      "execution_count": null,
      "outputs": [
        {
          "output_type": "execute_result",
          "data": {
            "text/plain": [
              "<matplotlib.legend.Legend at 0x7f377f02c6a0>"
            ]
          },
          "metadata": {},
          "execution_count": 38
        },
        {
          "output_type": "display_data",
          "data": {
            "text/plain": [
              "<Figure size 640x480 with 1 Axes>"
            ],
            "image/png": "[encoded data removed]"
          },
          "metadata": {}
        }
      ]
    },
    {
      "cell_type": "markdown",
      "metadata": {
        "id": "-_g6eiVEaNS9"
      },
      "source": [
        "# Window-based anomalies Calculation"
      ]
    },
    {
      "cell_type": "code",
      "metadata": {
        "id": "nzNhE9iuwFDE"
      },
      "source": [
        "#Calculate the window-based anomalies\n",
        "\n",
        "start_end = []\n",
        "state = 0\n",
        "for idx in test_score_df.index:\n",
        "    if state==0 and test_score_df.loc[idx, 'y']==1:\n",
        "        state=1\n",
        "        start = idx\n",
        "    if state==1 and test_score_df.loc[idx, 'y']==0:\n",
        "        state = 0\n",
        "        end = idx\n",
        "        start_end.append((start, end))\n",
        "\n",
        "for s_e in start_end:\n",
        "    if sum(test_score_df[s_e[0]:s_e[1]+1]['anomaly'])>0:\n",
        "        for i in range(s_e[0], s_e[1]+1):\n",
        "            test_score_df.loc[i, 'anomaly'] = 1\n",
        "\n",
        "actual = np.array(test_score_df['y'])\n",
        "predicted = np.array([int(a) for a in test_score_df['anomaly']])"
      ],
      "execution_count": null,
      "outputs": []
    },
    {
      "cell_type": "markdown",
      "metadata": {
        "id": "tg96TxaoaeXs"
      },
      "source": [
        "# Measurement scores Calculation"
      ]
    },
    {
      "cell_type": "code",
      "metadata": {
        "id": "wCShi-hjr586",
        "outputId": "f7534968-7e56-4765-fabf-14fa7d0882fd",
        "colab": {
          "base_uri": "https://localhost:8080/"
        }
      },
      "source": [
        "#Calculate measurement scores\n",
        "\n",
        "\n",
        "\n",
        "predicted = np.array(predicted)\n",
        "actual = np.array(actual)\n",
        "\n",
        "tp = np.count_nonzero(predicted * actual)\n",
        "tn = np.count_nonzero((predicted - 1) * (actual - 1))\n",
        "fp = np.count_nonzero(predicted * (actual - 1))\n",
        "fn = np.count_nonzero((predicted - 1) * actual)\n",
        "\n",
        "print('True Positive\\t', tp)\n",
        "print('True Negative\\t', tn)\n",
        "print('False Positive\\t', fp)\n",
        "print('False Negative\\t', fn)\n",
        "\n",
        "accuracy = (tp + tn) / (tp + fp + fn + tn)\n",
        "precision = tp / (tp + fp)\n",
        "recall = tp / (tp + fn)\n",
        "fmeasure = (2 * precision * recall) / (precision + recall)\n",
        "cohen_kappa_score = cohen_kappa_score(predicted, actual)\n",
        "false_positive_rate, true_positive_rate, thresholds = roc_curve(actual, predicted)\n",
        "auc_val = auc(false_positive_rate, true_positive_rate)\n",
        "roc_auc_val = roc_auc_score(actual, predicted)\n",
        "\n",
        "print('Accuracy\\t', accuracy)\n",
        "print('Precision\\t', precision)\n",
        "print('Recall\\t', recall)\n",
        "print('f-measure\\t', fmeasure)\n",
        "print('cohen_kappa_score\\t', cohen_kappa_score)\n",
        "print('auc\\t', auc_val)\n",
        "print('roc_auc\\t', roc_auc_val)\n"
      ],
      "execution_count": null,
      "outputs": [
        {
          "output_type": "stream",
          "name": "stdout",
          "text": [
            "True Positive\t 3\n",
            "True Negative\t 275\n",
            "False Positive\t 0\n",
            "False Negative\t 22\n",
            "Accuracy\t 0.9266666666666666\n",
            "Precision\t 1.0\n",
            "Recall\t 0.12\n",
            "f-measure\t 0.21428571428571425\n",
            "cohen_kappa_score\t 0.19999999999999996\n",
            "auc\t 0.56\n",
            "roc_auc\t 0.56\n"
          ]
        }
      ]
    },
    {
      "cell_type": "code",
      "metadata": {
        "id": "6nJqi1NVv2Iu"
      },
      "source": [],
      "execution_count": null,
      "outputs": []
    }
  ]
}